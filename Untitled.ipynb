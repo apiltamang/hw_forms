{
 "cells": [
  {
   "cell_type": "markdown",
   "metadata": {},
   "source": [
    "Notebook uses the image_slicer to slice image into 4 quarters, and save them"
   ]
  },
  {
   "cell_type": "code",
   "execution_count": 2,
   "metadata": {},
   "outputs": [],
   "source": [
    "import image_slicer\n",
    "import glob\n",
    "import matplotlib.pyplot as plt\n",
    "import matplotlib.image as mpimg\n",
    "%matplotlib inline\n",
    "from tqdm import tqdm"
   ]
  },
  {
   "cell_type": "code",
   "execution_count": 13,
   "metadata": {},
   "outputs": [],
   "source": [
    "orig_images_root = \"/home/apil/data/hw_forms/train/images/\"\n",
    "dest_images_root = \"/home/apil/data/hw_forms/train/sliced/images\"\n",
    "orig_masks_root = \"/home/apil/data/hw_forms/train/masks/\"\n",
    "dest_masks_root = \"/home/apil/data/hw_forms/train/sliced/masks/\""
   ]
  },
  {
   "cell_type": "code",
   "execution_count": 9,
   "metadata": {},
   "outputs": [],
   "source": [
    "def sliceImages(root, dest):\n",
    "    for img in tqdm(glob.glob(root+\"*.jpg\")):\n",
    "        imgRoot = img[img.rfind('/')+1 : img.rfind('.jpg')]\n",
    "        tiles = image_slicer.slice(img, 4, save=False)\n",
    "        image_slicer.save_tiles(tiles, directory=dest, prefix=imgRoot, format='jpg')"
   ]
  },
  {
   "cell_type": "code",
   "execution_count": 10,
   "metadata": {},
   "outputs": [
    {
     "name": "stderr",
     "output_type": "stream",
     "text": [
      "100%|██████████| 204/204 [03:43<00:00,  1.10s/it]\n"
     ]
    }
   ],
   "source": [
    "sliceImages(orig_images_root, dest_images_root)"
   ]
  },
  {
   "cell_type": "code",
   "execution_count": 14,
   "metadata": {},
   "outputs": [
    {
     "name": "stderr",
     "output_type": "stream",
     "text": [
      "100%|██████████| 204/204 [00:14<00:00, 14.39it/s]\n"
     ]
    }
   ],
   "source": [
    "sliceImages(orig_masks_root, dest_masks_root)"
   ]
  },
  {
   "cell_type": "code",
   "execution_count": null,
   "metadata": {},
   "outputs": [],
   "source": []
  }
 ],
 "metadata": {
  "kernelspec": {
   "display_name": "Python 3",
   "language": "python",
   "name": "python3"
  },
  "language_info": {
   "codemirror_mode": {
    "name": "ipython",
    "version": 3
   },
   "file_extension": ".py",
   "mimetype": "text/x-python",
   "name": "python",
   "nbconvert_exporter": "python",
   "pygments_lexer": "ipython3",
   "version": "3.5.4"
  }
 },
 "nbformat": 4,
 "nbformat_minor": 2
}
